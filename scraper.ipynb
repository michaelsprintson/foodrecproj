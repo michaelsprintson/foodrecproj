{
 "cells": [
  {
   "cell_type": "code",
   "execution_count": 1,
   "metadata": {},
   "outputs": [],
   "source": [
    "import os\n",
    "import numpy as np\n",
    "import pandas\n",
    "import ast\n",
    "from tqdm import tqdm\n",
    "import json\n",
    "import pandas as pd\n",
    "from collections import defaultdict\n",
    "from collections import Counter\n",
    "import matplotlib.pyplot as plt\n",
    "import re"
   ]
  },
  {
   "cell_type": "code",
   "execution_count": 2,
   "metadata": {},
   "outputs": [
    {
     "name": "stderr",
     "output_type": "stream",
     "text": [
      "225602it [00:03, 58261.40it/s]\n"
     ]
    }
   ],
   "source": [
    "with open(\"finished_reviews.txt\",'r') as fr:\n",
    "    finished_reviews = ast.literal_eval(\"[\" + fr.readline() + \"]\")\n",
    "\n",
    "e_f = []\n",
    "with open(\"allrecipes-recipes.json\") as f:\n",
    "    for jsonOb in tqdm(f):\n",
    "        recipesDict = json.loads(jsonOb)\n",
    "        oldUrl = recipesDict[\"url\"]\n",
    "        title = recipesDict[\"title\"]\n",
    "        e_f.append((oldUrl,title))"
   ]
  },
  {
   "cell_type": "code",
   "execution_count": 3,
   "metadata": {},
   "outputs": [],
   "source": [
    "tracker = 0\n",
    "def update_tracker():\n",
    "    global tracker\n",
    "    tracker += 1\n",
    "    return tracker - 1\n",
    "people_to_ids = defaultdict(lambda : update_tracker())\n",
    "full_line = True\n",
    "reviews = []\n",
    "with open(\"test.txt\") as f:\n",
    "    while (t:=f.readline()):\n",
    "        parts = t.split(\";\")\n",
    "        if full_line: # True if last line is concluded, false if we are at inner line\n",
    "            \n",
    "            people_to_ids[parts[1]]\n",
    "\n",
    "            r = re.match(\".*\\; \\d$\", t)\n",
    "            full_line = not r is None\n",
    "            if full_line:\n",
    "                reviews.append([int(parts[0]), people_to_ids[parts[1]],parts[2],int(parts[-1].replace(\"\\n\",\"\"))])\n",
    "            else:\n",
    "                reviews.append([int(parts[0]), people_to_ids[parts[1]],parts[2],-1])\n",
    "        else:\n",
    "            r = re.match(\".*\\; \\d$\", t)\n",
    "            full_line = not r is None\n",
    "            if full_line:\n",
    "                reviews[-1][2] = reviews[-1][2] + parts[0]\n",
    "                reviews[-1][-1] = int(parts[-1].replace(\"\\n\",\"\"))\n",
    "            else:\n",
    "                reviews[-1][2] = reviews[-1][2] + t            "
   ]
  },
  {
   "cell_type": "code",
   "execution_count": 4,
   "metadata": {},
   "outputs": [
    {
     "name": "stdout",
     "output_type": "stream",
     "text": [
      "2361583 number of reviews initially\n",
      "2192374 number of reviews after removing default name\n",
      "82975 number of reviews after removing users and items with less than 50 reviews\n",
      "496 number of unique users\n",
      "310 number of unique items\n"
     ]
    }
   ],
   "source": [
    "r_df = pd.DataFrame(reviews)\n",
    "print(len(r_df), \"number of reviews initially\")\n",
    "r_df.columns = ['itemID', 'userID', 'text', 'rating']\n",
    "r_df = r_df[r_df['userID'] != people_to_ids[' Allrecipes Member']]\n",
    "print(len(r_df), \"number of reviews after removing default name\")\n",
    "kept_users = set([k for k,v in dict(Counter(r_df['userID'])).items() if v > 150])\n",
    "kept_items = set([k for k,v in dict(Counter(r_df['itemID'])).items() if v > 150])\n",
    "r_df = r_df[(r_df['userID'].isin(kept_users)) & (r_df['itemID'].isin(kept_items))]\n",
    "kept_users = set([k for k,v in dict(Counter(r_df['userID'])).items() if v > 150])\n",
    "kept_items = set([k for k,v in dict(Counter(r_df['itemID'])).items() if v > 150])\n",
    "r_df = r_df[(r_df['userID'].isin(kept_users)) & (r_df['itemID'].isin(kept_items))]\n",
    "\n",
    "print(len(r_df), \"number of reviews after removing users and items with less than 50 reviews\")\n",
    "print(len(pd.unique(r_df['userID'])), \"number of unique users\")\n",
    "print(len(pd.unique(r_df['itemID'])), \"number of unique items\")"
   ]
  },
  {
   "cell_type": "code",
   "execution_count": 5,
   "metadata": {},
   "outputs": [
    {
     "name": "stdout",
     "output_type": "stream",
     "text": [
      "(11616, 115)\n",
      "(34, 1331)\n"
     ]
    }
   ],
   "source": [
    "#find the user with minimum and maximum review count\n",
    "\n",
    "d = [(k,v) for k,v in dict(Counter(r_df['itemID'])).items()]\n",
    "print(sorted(d, key = lambda x: x[1])[0])\n",
    "print(sorted(d, key = lambda x: x[1])[-1])"
   ]
  },
  {
   "cell_type": "code",
   "execution_count": 6,
   "metadata": {},
   "outputs": [
    {
     "data": {
      "text/plain": [
       "Counter({5: 62507, 4: 13936, 3: 3917, 2: 1506, 1: 1109})"
      ]
     },
     "execution_count": 6,
     "metadata": {},
     "output_type": "execute_result"
    }
   ],
   "source": [
    "#find the distribution of reviews given\n",
    "\n",
    "Counter(r_df['rating'])"
   ]
  },
  {
   "cell_type": "code",
   "execution_count": 7,
   "metadata": {},
   "outputs": [],
   "source": [
    "#save df to csv\n",
    "r_df.to_csv(\"data/new_user_recipe.csv\")"
   ]
  },
  {
   "cell_type": "code",
   "execution_count": 8,
   "metadata": {},
   "outputs": [
    {
     "data": {
      "text/plain": [
       "[(1119, 730),\n",
       " (1986, 774),\n",
       " (260, 776),\n",
       " (2589, 781),\n",
       " (4943, 820),\n",
       " (1574, 828),\n",
       " (1727, 847),\n",
       " (847, 902),\n",
       " (451, 1018),\n",
       " (1196, 1107)]"
      ]
     },
     "execution_count": 8,
     "metadata": {},
     "output_type": "execute_result"
    }
   ],
   "source": [
    "#print some of the highest review counts\n",
    "sorted([(k,v) for k,v in dict(Counter(r_df['userID'])).items()], key = lambda x: x[1])[-10:]"
   ]
  },
  {
   "cell_type": "code",
   "execution_count": 11,
   "metadata": {},
   "outputs": [
    {
     "data": {
      "text/plain": [
       "[<matplotlib.lines.Line2D at 0x7f6351219730>]"
      ]
     },
     "execution_count": 11,
     "metadata": {},
     "output_type": "execute_result"
    },
    {
     "data": {
      "image/png": "[encoded data removed]",
      "text/plain": [
       "<Figure size 640x480 with 1 Axes>"
      ]
     },
     "metadata": {},
     "output_type": "display_data"
    }
   ],
   "source": [
    "count, bins_count = np.histogram(list(Counter(r_df['userID']).values()), bins=1000)\n",
    "pdf = count / sum(count)\n",
    "cdf = np.cumsum(pdf)\n",
    "plt.title(\"CDF of User Review Count\")\n",
    "plt.xlabel(\"Number of Reviews\")\n",
    "plt.plot(bins_count[1:], cdf, label=\"CDF\")"
   ]
  },
  {
   "cell_type": "code",
   "execution_count": null,
   "metadata": {},
   "outputs": [],
   "source": []
  }
 ],
 "metadata": {
  "kernelspec": {
   "display_name": "Python 3 (ipykernel)",
   "language": "python",
   "name": "python3"
  },
  "language_info": {
   "codemirror_mode": {
    "name": "ipython",
    "version": 3
   },
   "file_extension": ".py",
   "mimetype": "text/x-python",
   "name": "python",
   "nbconvert_exporter": "python",
   "pygments_lexer": "ipython3",
   "version": "3.9.16"
  },
  "orig_nbformat": 4
 },
 "nbformat": 4,
 "nbformat_minor": 2
}
